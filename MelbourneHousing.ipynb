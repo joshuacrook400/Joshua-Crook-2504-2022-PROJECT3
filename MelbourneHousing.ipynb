{
 "cells": [
  {
   "cell_type": "markdown",
   "id": "004573d5",
   "metadata": {},
   "source": [
    "# UQ MATH2504: Project 3"
   ]
  },
  {
   "cell_type": "markdown",
   "id": "6b04ac30",
   "metadata": {},
   "source": [
    "My soltion to UQ MATH2504 Project 3: Analysis of Datasets and Basic ML Experiments <br><br>\n",
    "By Joshua Crook S#: 46974408<br>\n",
    "repo: https://github.com/joshuacrook400/Joshua-Crook-2504-2022-PROJECT3"
   ]
  },
  {
   "cell_type": "markdown",
   "id": "bd9e83ba",
   "metadata": {},
   "source": [
    "## Task 1:  Housing Prices Data"
   ]
  },
  {
   "cell_type": "markdown",
   "id": "6cb13a03",
   "metadata": {},
   "source": [
    "### Task 1.1: Exploratory data of single variables"
   ]
  },
  {
   "cell_type": "code",
   "execution_count": null,
   "id": "984ea129",
   "metadata": {},
   "outputs": [],
   "source": []
  },
  {
   "cell_type": "markdown",
   "id": "172baacd",
   "metadata": {},
   "source": [
    "### Task 1.2: Exploratory data analysis comparing variables"
   ]
  },
  {
   "cell_type": "code",
   "execution_count": null,
   "id": "e10dbcba",
   "metadata": {},
   "outputs": [],
   "source": []
  },
  {
   "cell_type": "markdown",
   "id": "871cb108",
   "metadata": {},
   "source": [
    "### Task 1.3: Exploratory data analysis over time "
   ]
  },
  {
   "cell_type": "code",
   "execution_count": null,
   "id": "8d0b8a4b",
   "metadata": {},
   "outputs": [],
   "source": []
  },
  {
   "cell_type": "markdown",
   "id": "a45e3c53",
   "metadata": {},
   "source": [
    "### Task 1.4: Linear Regression Models"
   ]
  },
  {
   "cell_type": "code",
   "execution_count": null,
   "id": "d079852c",
   "metadata": {},
   "outputs": [],
   "source": []
  }
 ],
 "metadata": {
  "kernelspec": {
   "display_name": "Julia 1.7.3",
   "language": "julia",
   "name": "julia-1.7"
  },
  "language_info": {
   "file_extension": ".jl",
   "mimetype": "application/julia",
   "name": "julia",
   "version": "1.7.3"
  }
 },
 "nbformat": 4,
 "nbformat_minor": 5
}
