{
 "cells": [
  {
   "cell_type": "markdown",
   "id": "49c133fb",
   "metadata": {},
   "source": [
    "## Task 2: Basic ML on MNIST and FashionMNIST"
   ]
  },
  {
   "cell_type": "markdown",
   "id": "e1fe4d72",
   "metadata": {},
   "source": [
    "### Task 2.1 One vs. all (rest) Linear and Logistic"
   ]
  },
  {
   "cell_type": "code",
   "execution_count": null,
   "id": "e74f7735",
   "metadata": {},
   "outputs": [],
   "source": []
  },
  {
   "cell_type": "markdown",
   "id": "06d94781",
   "metadata": {},
   "source": [
    "### Task 2.2 One vs. One Linear and Logistic"
   ]
  },
  {
   "cell_type": "code",
   "execution_count": null,
   "id": "b65a7b36",
   "metadata": {},
   "outputs": [],
   "source": []
  },
  {
   "cell_type": "markdown",
   "id": "c7353eda",
   "metadata": {},
   "source": [
    "### Task 2.3 Multi-class classifier (logistic softmax)"
   ]
  },
  {
   "cell_type": "code",
   "execution_count": null,
   "id": "971a9ad5",
   "metadata": {},
   "outputs": [],
   "source": []
  },
  {
   "cell_type": "markdown",
   "id": "b5d316b2",
   "metadata": {},
   "source": [
    "### Task 2.4 Comparison of results and discussion"
   ]
  },
  {
   "cell_type": "code",
   "execution_count": null,
   "id": "3b0b7a1f",
   "metadata": {},
   "outputs": [],
   "source": []
  },
  {
   "cell_type": "code",
   "execution_count": null,
   "id": "5311e83e",
   "metadata": {},
   "outputs": [],
   "source": []
  }
 ],
 "metadata": {
  "kernelspec": {
   "display_name": "Julia 1.7.3",
   "language": "julia",
   "name": "julia-1.7"
  },
  "language_info": {
   "file_extension": ".jl",
   "mimetype": "application/julia",
   "name": "julia",
   "version": "1.7.3"
  }
 },
 "nbformat": 4,
 "nbformat_minor": 5
}
