{
 "cells": [
  {
   "cell_type": "markdown",
   "id": "49c133fb",
   "metadata": {},
   "source": [
    "## Task 2: Basic ML on MNIST and FashionMNIST"
   ]
  },
  {
   "cell_type": "code",
   "execution_count": 1,
   "id": "b1d4109b",
   "metadata": {},
   "outputs": [
    {
     "data": {
      "text/plain": [
       "logistic_one_vs_all_auto_diff (generic function with 1 method)"
      ]
     },
     "execution_count": 1,
     "metadata": {},
     "output_type": "execute_result"
    }
   ],
   "source": [
    "using MLDatasets, Plots, Measures, LaTeXStrings, StatsBase, Random, LinearAlgebra\n",
    "include(\"src/ML.jl\")"
   ]
  },
  {
   "cell_type": "markdown",
   "id": "e1fe4d72",
   "metadata": {},
   "source": [
    "### Task 2.1 One vs. all (rest) Linear and Logistic"
   ]
  },
  {
   "cell_type": "markdown",
   "id": "8b555578",
   "metadata": {},
   "source": [
    "#### Linear Model one vs all\n",
    "The linear model on both the standard MINST and the fashionMINST"
   ]
  },
  {
   "cell_type": "code",
   "execution_count": 2,
   "id": "e628a63b",
   "metadata": {},
   "outputs": [],
   "source": [
    "train_data_MINST = MLDatasets.MNIST.traindata(Float64);\n",
    "test_data_MINST = MLDatasets.MNIST.testdata(Float64);\n",
    "\n",
    "ConfusionMatrix_MINST, acc_MINST = linear_one_vs_all(train_data_MINST, test_data_MINST, 9);\n"
   ]
  },
  {
   "cell_type": "code",
   "execution_count": 3,
   "id": "87c10174",
   "metadata": {},
   "outputs": [
    {
     "name": "stdout",
     "output_type": "stream",
     "text": [
      "Accuracy: 0.8603\n",
      "ConfusionMatrix: \n",
      "10×10 Matrix{Int64}:\n",
      " 944     0   18    4    0   23   18    5   14   15\n",
      "   0  1107   54   17   22   18   10   40   46   11\n",
      "   1     2  813   23    6    3    9   16   11    2\n",
      "   2     2   26  880    1   72    0    6   30   17\n",
      "   2     3   15    5  881   24   22   26   27   80\n",
      "   7     1    0   17    5  659   17    0   40    1\n",
      "  14     5   42    9   10   23  875    1   15    1\n",
      "   2     1   22   21    2   14    0  884   12   77\n",
      "   7    14   37   22   11   39    7    0  759    4\n",
      "   1     0    5   12   44   17    0   50   20  801"
     ]
    }
   ],
   "source": [
    "println(\"Accuracy: \", acc_MINST)\n",
    "println(\"ConfusionMatrix: \")\n",
    "show(stdout, \"text/plain\", ConfusionMatrix_MINST)"
   ]
  },
  {
   "cell_type": "code",
   "execution_count": 4,
   "id": "a210272f",
   "metadata": {},
   "outputs": [],
   "source": [
    "train_data_fMINST = FashionMNIST.traindata(Float64);\n",
    "test_data_fMINST = FashionMNIST.testdata(Float64);\n",
    "\n",
    "ConfusionMatrix_fMINST, acc_fMINST = linear_one_vs_all(train_data_fMINST, test_data_fMINST, 9);"
   ]
  },
  {
   "cell_type": "code",
   "execution_count": 5,
   "id": "85b8f3be",
   "metadata": {},
   "outputs": [
    {
     "name": "stdout",
     "output_type": "stream",
     "text": [
      "Accuracy: 0.8113\n",
      "ConfusionMatrix: \n",
      "10×10 Matrix{Int64}:\n",
      " 802    4   38   22    1    0  160    0    5    0\n",
      "   3  952    1   13    6    0    3    0    0    0\n",
      "  12    5  690   14  114    0  136    0    4    0\n",
      "  71   29   16  852   37    2   57    0   12    0\n",
      "   9    5  169   47  750    0  118    0    6    0\n",
      "  19    2   15   23    7  838   21   32   22   22\n",
      "  62    2   56   21   77    2  462    0   11    1\n",
      "   1    0    0    0    0   88    1  909    7   48\n",
      "  21    1   15    8    8   14   42    0  929    0\n",
      "   0    0    0    0    0   56    0   59    4  929"
     ]
    }
   ],
   "source": [
    "println(\"Accuracy: \", acc_fMINST)\n",
    "println(\"ConfusionMatrix: \")\n",
    "show(stdout, \"text/plain\", ConfusionMatrix_fMINST)"
   ]
  },
  {
   "cell_type": "markdown",
   "id": "bd880fb8",
   "metadata": {},
   "source": [
    "The values above show that for the standard MINST data set had a accuracy of 0.8603 while the fashion MINST data set had an accuracy of 0.8113 for the linear machine learning model. The confucsion matrix for each model give an indicaiton of where the most mistakes were made. Which was row 5 column 10 for the standard MINST which indicates that a four being mistaken as a nine is the most common error. While for the fashion MINST was row 5 column 3 which indicates that a coat being mistaken as a pullover is the most common error for the fashion dataset."
   ]
  },
  {
   "cell_type": "markdown",
   "id": "284a2d31",
   "metadata": {},
   "source": [
    "#### Logistic Model one vs all"
   ]
  },
  {
   "cell_type": "markdown",
   "id": "20529096",
   "metadata": {},
   "source": [
    "While trying to implement the one vs all logistic model I had great difficulties in getting the explicit differientation to work. Below show my attempt at a solution however the code was very slow and fails to do even one epoch in a reasonable amount of time. "
   ]
  },
  {
   "cell_type": "code",
   "execution_count": 6,
   "id": "8e1d660c",
   "metadata": {},
   "outputs": [
    {
     "name": "stdout",
     "output_type": "stream",
     "text": [
      "Batch Number = 1 (0.91 sec)\n",
      "Batch Number = 2 (28.36 sec)\n",
      "Batch Number = 3 (28.11 sec)\n",
      "Batch Number = 4 (28.49 sec)\n",
      "Batch Number = 5 (28.0 sec)\n",
      "Total elpased time after 5 batches 113.86\n"
     ]
    }
   ],
   "source": [
    "train_data_MINST = MLDatasets.MNIST.traindata(Float64);\n",
    "test_data_MINST = MLDatasets.MNIST.testdata(Float64);\n",
    "logistic_one_vs_all(train_data_MINST, test_data_MINST);"
   ]
  },
  {
   "cell_type": "markdown",
   "id": "f7a3dd71",
   "metadata": {},
   "source": [
    "I computed five 1000 length batches for this example and this took my computer 2 mintues. To compute one epoch at a rate of 30 seconds per batch would take 30 minutes (Assuming the computation time doesnt increase) which is obviously not right and definitly not feasible for multiple epochs. I've include this because an attempt is better than nothing but this would be useless in providing an accurate guess of any image."
   ]
  },
  {
   "cell_type": "markdown",
   "id": "06d94781",
   "metadata": {},
   "source": [
    "### Task 2.2 One vs. One Linear and Logistic"
   ]
  },
  {
   "cell_type": "markdown",
   "id": "b65a7b36",
   "metadata": {},
   "source": [
    "#### Linear one vs one\n",
    "Since as noted above I failed to devolp a logistic one vs all model for one vs one only the linear model will be tested. "
   ]
  },
  {
   "cell_type": "markdown",
   "id": "a8905bbd",
   "metadata": {},
   "source": [
    "MINST Dataset"
   ]
  },
  {
   "cell_type": "code",
   "execution_count": 7,
   "id": "2d6bb368",
   "metadata": {},
   "outputs": [],
   "source": [
    "#Collecting data\n",
    "train_data_MINST = MLDatasets.MNIST.traindata(Float64);\n",
    "test_data_MINST = MLDatasets.MNIST.testdata(Float64);\n",
    "train_imgs = train_data_MINST[1]\n",
    "train_labels = train_data_MINST[2]\n",
    "\n",
    "test_imgs = test_data_MINST[1]\n",
    "test_labels = test_data_MINST[2]\n",
    "\n",
    "#sorting data\n",
    "X_sorted = vcat([vec(train_imgs[:,:,k])' for k in sortperm(train_labels)]...);\n",
    "Xt_sorted = vcat([vec(test_imgs[:,:,k])' for k in sortperm(test_labels)]...);\n"
   ]
  },
  {
   "cell_type": "code",
   "execution_count": 8,
   "id": "dc6cfaa9",
   "metadata": {},
   "outputs": [],
   "source": [
    "#organising data\n",
    "Intervals = []\n",
    "\n",
    "for i in 1:10\n",
    "    push!(Intervals, (counts(train_labels)[i], counts(test_labels)[i]))\n",
    "end\n",
    "\n",
    "X_values = []\n",
    "\n",
    "start = [1, 1]\n",
    "finish = [counts(train_labels)[1], counts(test_labels)[1]]\n",
    "for i in 1:10\n",
    "    push!(X_values, (X_sorted[start[1]:finish[1],:], Xt_sorted[start[2]:finish[2],:]))\n",
    "\n",
    "    i == 10 && break #break when i == 10 to avoid index out of bounds error\n",
    "    start[1] = start[1] + counts(train_labels)[i]\n",
    "    start[2] = start[2] + counts(test_labels)[i]\n",
    "    finish[1] = finish[1] + counts(train_labels)[i+1]\n",
    "    finish[2] = finish[2] + counts(test_labels)[i+1]\n",
    "end"
   ]
  },
  {
   "cell_type": "code",
   "execution_count": 9,
   "id": "31576d66",
   "metadata": {},
   "outputs": [
    {
     "name": "stdout",
     "output_type": "stream",
     "text": [
      "The average accuraccy of the linear one vs one model is 0.983040946104759\n"
     ]
    }
   ],
   "source": [
    "#Recording accuracy values for 45 linear models\n",
    "acc = 0\n",
    "num_of_tests = 9\n",
    "counter = 0\n",
    "\n",
    "#testing all permutation without repretition\n",
    "for i in 1:10\n",
    "    \n",
    "    for j in 11-num_of_tests:10\n",
    "        acc += linear_one_vs_one(X_values[i], X_values[j], Intervals[i], Intervals[j])\n",
    "        counter += 1\n",
    "    end\n",
    "    num_of_tests -= 1\n",
    "    \n",
    "end\n",
    "\n",
    "println(\"The average accuraccy of the linear one vs one model is \", acc/45)"
   ]
  },
  {
   "cell_type": "markdown",
   "id": "ebab8bae",
   "metadata": {},
   "source": [
    "FashionMINST Dataset"
   ]
  },
  {
   "cell_type": "code",
   "execution_count": 10,
   "id": "296389cf",
   "metadata": {},
   "outputs": [],
   "source": [
    "#collecting data \n",
    "train_data_fMINST = FashionMNIST.traindata(Float64);\n",
    "test_data_fMINST = FashionMNIST.testdata(Float64)\n",
    "\n",
    "train_imgs = train_data_fMINST[1]\n",
    "train_labels = train_data_fMINST[2]\n",
    "\n",
    "test_imgs = test_data_fMINST[1]\n",
    "test_labels = test_data_fMINST[2]\n",
    "\n",
    "#values in the FashionMNIST are naturally sorted\n",
    "X_sorted = vcat([vec(train_imgs[:,:,k])' for k in 1:length(train_labels)]...);\n",
    "Xt_sorted = vcat([vec(test_imgs[:,:,k])' for k in 1:length(test_labels)]...);"
   ]
  },
  {
   "cell_type": "code",
   "execution_count": 11,
   "id": "67dae08d",
   "metadata": {},
   "outputs": [],
   "source": [
    "#organising data\n",
    "Intervals = []\n",
    "\n",
    "for i in 1:10\n",
    "    push!(Intervals, (counts(train_labels)[i], counts(test_labels)[i]))\n",
    "end\n",
    "\n",
    "X_values = []\n",
    "\n",
    "start = [1, 1]\n",
    "finish = [counts(train_labels)[1], counts(test_labels)[1]]\n",
    "for i in 1:10\n",
    "    push!(X_values, (X_sorted[start[1]:finish[1],:], Xt_sorted[start[2]:finish[2],:]))\n",
    "\n",
    "    i == 10 && break #break when i == 10 to avoid index out of bounds error\n",
    "    start[1] = start[1] + counts(train_labels)[i]\n",
    "    start[2] = start[2] + counts(test_labels)[i]\n",
    "    finish[1] = finish[1] + counts(train_labels)[i+1]\n",
    "    finish[2] = finish[2] + counts(test_labels)[i+1]\n",
    "end"
   ]
  },
  {
   "cell_type": "code",
   "execution_count": 12,
   "id": "7390592c",
   "metadata": {},
   "outputs": [
    {
     "name": "stdout",
     "output_type": "stream",
     "text": [
      "The average accuraccy of the linear one vs one model is 0.5024\n"
     ]
    }
   ],
   "source": [
    "#Recording accuracu values for 45 linear models\n",
    "acc = 0\n",
    "num_of_tests = 9\n",
    "counter = 0\n",
    "\n",
    "#testing all permutation without repretition\n",
    "for i in 1:10\n",
    "    \n",
    "    for j in 11-num_of_tests:10\n",
    "        acc += linear_one_vs_one(X_values[i], X_values[j], Intervals[i], Intervals[j])\n",
    "        counter += 1\n",
    "    end\n",
    "    num_of_tests -= 1\n",
    "    \n",
    "end\n",
    "\n",
    "println(\"The average accuraccy of the linear one vs one model is \", acc/45)"
   ]
  },
  {
   "cell_type": "markdown",
   "id": "35017078",
   "metadata": {},
   "source": [
    "The one vs one linear ML model for the MINST data set had a very high accuracy value of 0.98 compared to the significantly lower value for the FashionMINST dada set which had an average accuracy value of 0.50. I was expecting a higher accuracy value for the the MINST data set because each digit has very distinct features while many of the Fashion type overlap significantly which would have lowered the overall accuracy value."
   ]
  },
  {
   "cell_type": "markdown",
   "id": "c7353eda",
   "metadata": {},
   "source": [
    "### Task 2.3 Multi-class classifier (logistic softmax)"
   ]
  },
  {
   "cell_type": "code",
   "execution_count": null,
   "id": "971a9ad5",
   "metadata": {},
   "outputs": [],
   "source": []
  },
  {
   "cell_type": "markdown",
   "id": "b5d316b2",
   "metadata": {},
   "source": [
    "### Task 2.4 Comparison of results and discussion"
   ]
  },
  {
   "cell_type": "code",
   "execution_count": null,
   "id": "3b0b7a1f",
   "metadata": {},
   "outputs": [],
   "source": []
  }
 ],
 "metadata": {
  "kernelspec": {
   "display_name": "Julia 1.7.3",
   "language": "julia",
   "name": "julia-1.7"
  },
  "language_info": {
   "file_extension": ".jl",
   "mimetype": "application/julia",
   "name": "julia",
   "version": "1.7.3"
  }
 },
 "nbformat": 4,
 "nbformat_minor": 5
}
