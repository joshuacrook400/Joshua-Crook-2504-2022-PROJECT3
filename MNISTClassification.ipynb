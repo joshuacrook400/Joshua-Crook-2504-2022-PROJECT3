{
 "cells": [
  {
   "cell_type": "markdown",
   "id": "49c133fb",
   "metadata": {},
   "source": [
    "## Task 2: Basic ML on MNIST and FashionMNIST"
   ]
  },
  {
   "cell_type": "code",
   "execution_count": 1,
   "id": "b1d4109b",
   "metadata": {},
   "outputs": [],
   "source": [
    "using MLDatasets, Plots, Measures, LaTeXStrings, StatsBase, Random, LinearAlgebra"
   ]
  },
  {
   "cell_type": "code",
   "execution_count": null,
   "id": "3cc2d683",
   "metadata": {},
   "outputs": [],
   "source": [
    "train_data = FashionMNIST.traindata(Float64);\n",
    "train_imgs = train_data[1];\n",
    "train_labels = train_data[2];\n",
    "\n",
    "test_data = FashionMNIST.testdata(Float64);\n",
    "test_imgs = test_data[1];\n",
    "test_labels = test_data[2];\n",
    "class_names = FashionMNIST.classnames()"
   ]
  },
  {
   "cell_type": "code",
   "execution_count": null,
   "id": "5e2f36d2",
   "metadata": {},
   "outputs": [],
   "source": [
    "#training and testing images for FashionMNIST\n",
    "tshirt_imgs, test_tshirt_imgs = train_imgs[:,:,train_labels .== 0], test_imgs[:,:,test_labels .== 0];\n",
    "trousers_imgs, test_trousers_imgs = train_imgs[:,:,train_labels .== 1], test_imgs[:,:,test_labels .== 1];\n",
    "pullover_imgs, test_pullover_imgs = train_imgs[:,:,train_labels .== 2], test_imgs[:,:,test_labels .== 2];\n",
    "dress_imgs, test_dress_imgs = train_imgs[:,:,train_labels .== 3], test_imgs[:,:,test_labels .== 3];\n",
    "coat_imgs, test_coat_imgs = train_imgs[:,:,train_labels .== 4], test_imgs[:,:,test_labels .== 4];\n",
    "sandle_imgs, test_sandle_imgs = train_imgs[:,:,train_labels .== 5], test_imgs[:,:,test_labels .== 5];\n",
    "shirt_imgs, test_shirt_imgs = train_imgs[:,:,train_labels .== 6], test_imgs[:,:,test_labels .== 6];\n",
    "sneaker_imgs, test_sneaker_imgs = train_imgs[:,:,train_labels .== 7], test_imgs[:,:,test_labels .== 7];\n",
    "bag_imgs, test_bag_imgs = train_imgs[:,:,train_labels .== 8], test_imgs[:,:,test_labels .== 8];\n",
    "ankle_boot_imgs, test_ankle_boot_imgs = train_imgs[:,:,train_labels .== 9], test_imgs[:,:,test_labels .== 9];"
   ]
  },
  {
   "cell_type": "code",
   "execution_count": null,
   "id": "5ba180cd",
   "metadata": {},
   "outputs": [],
   "source": [
    "#only testing 1000 since my computer could plot the heatmap without crashing (out of memmory only 8gb sadge)\n",
    "tshirt_imgs_as_vectors, test_tshirt_imgs_as_vectors = vcat([vec(tshirt_imgs[:,:,k])' for k in 1:1000]...), vcat([vec(test_tshirt_imgs[:,:,k])' for k in 1:1000]...);\n",
    "trousers_imgs_as_vectors, test_trousers_imgs_as_vectors = vcat([vec(trousers_imgs[:,:,k])' for k in 1:1000]...), vcat([vec(test_trousers_imgs[:,:,k])' for k in 1:1000]...);\n",
    "dress_imgs_as_vectors, test_dress_imgs_as_vectors = vcat([vec(pullover_imgs[:,:,k])' for k in 1:1000]...), vcat([vec(test_pullover_imgs[:,:,k])' for k in 1:1000]...); #last(size(pullover_imgs))\n",
    "coat_imgs_as_vectors, test_coat_imgs_as_vectors = vcat([vec(dress_imgs[:,:,k])' for k in 1:1000]...), vcat([vec(test_dress_imgs[:,:,k])' for k in 1:1000]...); #last(size(dress_imgs))\n",
    "sandle_imgs_as_vectors, test_sandle_imgs_as_vectors = vcat([vec(coat_imgs[:,:,k])' for k in 1:1000]...), vcat([vec(test_coat_imgs[:,:,k])' for k in 1:1000]...); #last(size(coat_imgs))\n",
    "shirt_imgs_as_vectors, test_shirt_imgs_as_vectors = vcat([vec(sandle_imgs[:,:,k])' for k in 1:1000]...), vcat([vec(test_sandle_imgs[:,:,k])' for k in 1:1000]...); #last(size(sandal_imgs))\n",
    "sneaker_imgs_as_vectors, test_sneaker_imgs_as_vectors = vcat([vec(shirt_imgs[:,:,k])' for k in 1:1000]...), vcat([vec(test_shirt_imgs[:,:,k])' for k in 1:1000]...); #last(size(shirt_imgs))\n",
    "bag_imgs_as_vectors, test_bag_imgs_as_vectors = vcat([vec(bag_imgs[:,:,k])' for k in 1:1000]...), vcat([vec(test_sneaker_imgs[:,:,k])' for k in 1:1000]...); #last(size(bag_imgs))\n",
    "ankle_boot_imgs_as_vectors, test_ankle_boot_imgs_as_vectors = vcat([vec(ankle_boot_imgs[:,:,k])' for k in 1:1000]...), vcat([vec(test_bag_imgs[:,:,k])' for k in 1:1000]...); #last(size(ankle_boot_imgs))"
   ]
  },
  {
   "cell_type": "markdown",
   "id": "828b3107",
   "metadata": {},
   "source": []
  },
  {
   "cell_type": "code",
   "execution_count": 4,
   "id": "5b93e1fe",
   "metadata": {},
   "outputs": [
    {
     "name": "stderr",
     "output_type": "stream",
     "text": [
      "┌ Warning: MNIST.traindata() is deprecated, use `MNIST(split=:train)[:]` instead.\n",
      "└ @ MLDatasets C:\\Users\\joshu\\.julia\\packages\\MLDatasets\\soHS1\\src\\datasets\\vision\\mnist.jl:187\n",
      "┌ Warning: MNIST.testdata() is deprecated, use `MNIST(split=:test)[:]` instead.\n",
      "└ @ MLDatasets C:\\Users\\joshu\\.julia\\packages\\MLDatasets\\soHS1\\src\\datasets\\vision\\mnist.jl:195\n"
     ]
    }
   ],
   "source": [
    "train_data_MINST = MLDatasets.MNIST.traindata(Float64);\n",
    "train_imgs_MINST = train_data_MINST[1];\n",
    "train_labels_MINST = train_data_MINST[2];\n",
    "\n",
    "test_data_MINST = MLDatasets.MNIST.testdata(Float64);\n",
    "test_imgs_MINST = test_data_MINST[1];\n",
    "test_labels_MINST = test_data_MINST[2];\n",
    "\n",
    "n_train_MINST, n_test_MINST = length(train_labels_MINST), length(test_labels_MINST)\n",
    "\n",
    "\n",
    "X = vcat([vec(train_imgs_MINST[:,:,k])' for k in 1:n_train_MINST]...);\n",
    "X_sorted = vcat([vec(train_imgs_MINST[:,:,k])' for k in sortperm(train_labels_MINST)]...);\n",
    "#heatmap(X, legend=false)"
   ]
  },
  {
   "cell_type": "code",
   "execution_count": 5,
   "id": "8063215b",
   "metadata": {},
   "outputs": [],
   "source": [
    "A = [ones(n_train_MINST) X];\n",
    "Adag = pinv(A);"
   ]
  },
  {
   "cell_type": "code",
   "execution_count": 6,
   "id": "9ece6c55",
   "metadata": {},
   "outputs": [],
   "source": [
    "using Flux: onehotbatch\n",
    "\n",
    "tfPM(x) = x ? +1 : -1\n",
    "yDat(k) = tfPM.(onehotbatch(train_labels_MINST,0:9)'[:,k+1])\n",
    "bets = [Adag*yDat(k) for k in 0:9]; #this is the trained model (a list of 10 beta coeff vectors)\n"
   ]
  },
  {
   "cell_type": "code",
   "execution_count": 7,
   "id": "e31ef53c",
   "metadata": {},
   "outputs": [
    {
     "data": {
      "text/plain": [
       "linear_classify (generic function with 1 method)"
      ]
     },
     "execution_count": 7,
     "metadata": {},
     "output_type": "execute_result"
    }
   ],
   "source": [
    "linear_classify(square_image) = argmax([([1 ; vec(square_image)])'*bets[k] for k in 1:10]) - 1"
   ]
  },
  {
   "cell_type": "code",
   "execution_count": 8,
   "id": "0e6f17ac",
   "metadata": {},
   "outputs": [
    {
     "data": {
      "text/plain": [
       "0.8603"
      ]
     },
     "execution_count": 8,
     "metadata": {},
     "output_type": "execute_result"
    }
   ],
   "source": [
    "predictions = [linear_classify(test_imgs_MINST[:,:,k]) for k in 1:n_test_MINST]\n",
    "confusionMatrix = [sum((predictions .== i) .& (test_labels_MINST .== j)) for i in 0:9, j in 0:9]\n",
    "acc = sum(diag(confusionMatrix))/n_test_MINST"
   ]
  },
  {
   "cell_type": "markdown",
   "id": "e1fe4d72",
   "metadata": {},
   "source": [
    "### Task 2.1 One vs. all (rest) Linear and Logistic"
   ]
  },
  {
   "cell_type": "code",
   "execution_count": 9,
   "id": "93d2fbc5",
   "metadata": {},
   "outputs": [
    {
     "ename": "LoadError",
     "evalue": "LoadError: ArgumentError: Package FLUX not found in current path:\n- Run `import Pkg; Pkg.add(\"FLUX\")` to install the FLUX package.\n\nin expression starting at c:\\Users\\joshu\\Documents\\MATH2504\\Joshua-Crook-2504-2022-PROJECT3\\src\\ML.jl:4",
     "output_type": "error",
     "traceback": [
      "LoadError: ArgumentError: Package FLUX not found in current path:\n- Run `import Pkg; Pkg.add(\"FLUX\")` to install the FLUX package.\n\nin expression starting at c:\\Users\\joshu\\Documents\\MATH2504\\Joshua-Crook-2504-2022-PROJECT3\\src\\ML.jl:4",
      "",
      "Stacktrace:",
      " [1] require(into::Module, mod::Symbol)",
      "   @ Base .\\loading.jl:967",
      " [2] include(fname::String)",
      "   @ Base.MainInclude .\\client.jl:451",
      " [3] top-level scope",
      "   @ In[9]:1",
      " [4] eval",
      "   @ .\\boot.jl:373 [inlined]",
      " [5] include_string(mapexpr::typeof(REPL.softscope), mod::Module, code::String, filename::String)",
      "   @ Base .\\loading.jl:1196"
     ]
    }
   ],
   "source": [
    "include(\"src/ML.jl\")"
   ]
  },
  {
   "cell_type": "markdown",
   "id": "f0636069",
   "metadata": {},
   "source": [
    "ML.jl has the logistic training method."
   ]
  },
  {
   "cell_type": "code",
   "execution_count": null,
   "id": "30831eb3",
   "metadata": {},
   "outputs": [],
   "source": []
  },
  {
   "cell_type": "code",
   "execution_count": null,
   "id": "a210272f",
   "metadata": {},
   "outputs": [],
   "source": [
    "n_train, n_test = 10000, length(test_labels)"
   ]
  },
  {
   "cell_type": "code",
   "execution_count": null,
   "id": "85b8f3be",
   "metadata": {},
   "outputs": [],
   "source": [
    "A = [ones(n_train) train_data_all_classes];\n",
    "Adag = pinv(A);"
   ]
  },
  {
   "cell_type": "code",
   "execution_count": null,
   "id": "bd880fb8",
   "metadata": {},
   "outputs": [],
   "source": []
  },
  {
   "cell_type": "markdown",
   "id": "aaa01878",
   "metadata": {},
   "source": [
    "#### 1 vs all Logistic model for Fashion dataset\n",
    "Determining if something is a t-shirt or not. 1 indicates tshirt 0 indicates it is not a t-shirt"
   ]
  },
  {
   "cell_type": "code",
   "execution_count": null,
   "id": "17b3c302",
   "metadata": {},
   "outputs": [],
   "source": [
    "#creating one concatinated vector of all fashion data.\n",
    "train_data_all_classes = vcat(tshirt_imgs_as_vectors, trousers_imgs_as_vectors, dress_imgs_as_vectors, coat_imgs_as_vectors, sandle_imgs_as_vectors, shirt_imgs_as_vectors, sneaker_imgs_as_vectors, bag_imgs_as_vectors, ankle_boot_imgs_as_vectors);\n",
    "\n",
    "@show size(train_data_all_classes)\n",
    "#heatmap(train_data_all_classes,legend=false)"
   ]
  },
  {
   "cell_type": "code",
   "execution_count": null,
   "id": "95eb1343",
   "metadata": {},
   "outputs": [],
   "source": [
    "\n",
    "# firstly want to test if somthing is a tshirt or not.\n",
    "train_labels_tshirt_vs_all = vcat(ones(1000),zeros(8000));\n",
    "\n",
    "#shuffling data\n",
    "Random.seed!(0)\n",
    "perm = shuffle(1:9000)\n",
    "train_data_tshirt_vs_all = train_data_all_classes[perm,:];\n",
    "train_labels_tshirt_vs_all = train_labels_tshirt_vs_all[perm,:];\n",
    "#heatmap(train_data_all_classes,legend=false)"
   ]
  },
  {
   "cell_type": "code",
   "execution_count": null,
   "id": "d7a7c986",
   "metadata": {},
   "outputs": [],
   "source": [
    "w1, b1 = train_logistic(train_data_tshirt_vs_all, train_labels_tshirt_vs_all, 9000);"
   ]
  },
  {
   "cell_type": "markdown",
   "id": "e82a3cab",
   "metadata": {},
   "source": [
    "Testing model"
   ]
  },
  {
   "cell_type": "code",
   "execution_count": null,
   "id": "212cad8b",
   "metadata": {},
   "outputs": [],
   "source": [
    "test_non_tshirt_as_vector = vcat(test_trousers_imgs_as_vectors, test_dress_imgs_as_vectors, \n",
    "                                test_coat_imgs_as_vectors, test_sandle_imgs_as_vectors, \n",
    "                                test_shirt_imgs_as_vectors, test_sneaker_imgs_as_vectors, \n",
    "                                test_bag_imgs_as_vectors, test_ankle_boot_imgs_as_vectors);"
   ]
  },
  {
   "cell_type": "code",
   "execution_count": null,
   "id": "fce08884",
   "metadata": {},
   "outputs": [],
   "source": [
    "mean([logistic_classifier(test_tshirt_imgs_as_vectors',w1,b1) .== ones(1000)' logistic_classifier(test_non_tshirt_as_vector',w1,b1) .== zeros(8000)' ])"
   ]
  },
  {
   "cell_type": "markdown",
   "id": "06d94781",
   "metadata": {},
   "source": [
    "### Task 2.2 One vs. One Linear and Logistic"
   ]
  },
  {
   "cell_type": "code",
   "execution_count": null,
   "id": "b65a7b36",
   "metadata": {},
   "outputs": [],
   "source": []
  },
  {
   "cell_type": "markdown",
   "id": "c7353eda",
   "metadata": {},
   "source": [
    "### Task 2.3 Multi-class classifier (logistic softmax)"
   ]
  },
  {
   "cell_type": "code",
   "execution_count": null,
   "id": "971a9ad5",
   "metadata": {},
   "outputs": [],
   "source": []
  },
  {
   "cell_type": "markdown",
   "id": "b5d316b2",
   "metadata": {},
   "source": [
    "### Task 2.4 Comparison of results and discussion"
   ]
  },
  {
   "cell_type": "code",
   "execution_count": null,
   "id": "3b0b7a1f",
   "metadata": {},
   "outputs": [],
   "source": []
  },
  {
   "cell_type": "code",
   "execution_count": null,
   "id": "5311e83e",
   "metadata": {},
   "outputs": [],
   "source": []
  }
 ],
 "metadata": {
  "kernelspec": {
   "display_name": "Julia 1.7.3",
   "language": "julia",
   "name": "julia-1.7"
  },
  "language_info": {
   "file_extension": ".jl",
   "mimetype": "application/julia",
   "name": "julia",
   "version": "1.7.3"
  }
 },
 "nbformat": 4,
 "nbformat_minor": 5
}
