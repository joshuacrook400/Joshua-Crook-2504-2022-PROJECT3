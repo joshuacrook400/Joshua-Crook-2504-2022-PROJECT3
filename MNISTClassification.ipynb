{
 "cells": [
  {
   "cell_type": "markdown",
   "id": "49c133fb",
   "metadata": {},
   "source": [
    "## Task 2: Basic ML on MNIST and FashionMNIST"
   ]
  },
  {
   "cell_type": "code",
   "execution_count": 1,
   "id": "b1d4109b",
   "metadata": {},
   "outputs": [],
   "source": [
    "using MLDatasets, Plots, Measures, LaTeXStrings, StatsBase, Random, LinearAlgebra\n",
    "include(\"src/ML.jl\")"
   ]
  },
  {
   "cell_type": "markdown",
   "id": "e1fe4d72",
   "metadata": {},
   "source": [
    "### Task 2.1 One vs. all (rest) Linear and Logistic"
   ]
  },
  {
   "cell_type": "markdown",
   "id": "8b555578",
   "metadata": {},
   "source": [
    "#### Linear Model one vs all\n",
    "The linear model on both the standard MINST and the fashionMINST"
   ]
  },
  {
   "cell_type": "code",
   "execution_count": null,
   "id": "e628a63b",
   "metadata": {},
   "outputs": [],
   "source": [
    "train_data_MINST = MLDatasets.MNIST.traindata(Float64);\n",
    "test_data_MINST = MLDatasets.MNIST.testdata(Float64);\n",
    "\n",
    "ConfusionMatrix_MINST, acc_MINST = linear_one_vs_all(train_data_MINST, test_data_MINST, 9);\n"
   ]
  },
  {
   "cell_type": "code",
   "execution_count": null,
   "id": "87c10174",
   "metadata": {},
   "outputs": [],
   "source": [
    "println(\"Accuracy: \", acc_MINST)\n",
    "println(\"ConfusionMatrix: \")\n",
    "show(stdout, \"text/plain\", ConfusionMatrix_MINST)"
   ]
  },
  {
   "cell_type": "code",
   "execution_count": null,
   "id": "a210272f",
   "metadata": {},
   "outputs": [],
   "source": [
    "train_data_fMINST = FashionMNIST.traindata(Float64);\n",
    "test_data_fMINST = FashionMNIST.testdata(Float64);\n",
    "\n",
    "ConfusionMatrix_fMINST, acc_fMINST = linear_one_vs_all(train_data_fMINST, test_data_fMINST, 9);"
   ]
  },
  {
   "cell_type": "code",
   "execution_count": null,
   "id": "85b8f3be",
   "metadata": {},
   "outputs": [],
   "source": [
    "println(\"Accuracy: \", acc_fMINST)\n",
    "println(\"ConfusionMatrix: \")\n",
    "show(stdout, \"text/plain\", ConfusionMatrix_fMINST)"
   ]
  },
  {
   "cell_type": "markdown",
   "id": "bd880fb8",
   "metadata": {},
   "source": [
    "The values above show that for the standard MINST data set had a accuracy of 0.8603 while the fashion MINST data set had an accuracy of 0.8113 for the linear machine learning model. The confucsion matrix for each model give an indicaiton of where the most mistakes were made. Which was row 5 column 10 for the standard MINST which indicates that a four being mistaken as a nine is the most common error. While for the fashion MINST was row 5 column 3 which indicates that a coat being mistaken as a pullover is the most common error for the fashion dataset."
   ]
  },
  {
   "cell_type": "markdown",
   "id": "284a2d31",
   "metadata": {},
   "source": [
    "#### Logistic Model one vs all"
   ]
  },
  {
   "cell_type": "code",
   "execution_count": 87,
   "id": "2a76aadf",
   "metadata": {},
   "outputs": [
    {
     "data": {
      "text/plain": [
       "logistic_one_vs_all_auto_diff (generic function with 1 method)"
      ]
     },
     "execution_count": 87,
     "metadata": {},
     "output_type": "execute_result"
    }
   ],
   "source": [
    "include(\"src/ML.jl\")"
   ]
  },
  {
   "cell_type": "markdown",
   "id": "20529096",
   "metadata": {},
   "source": [
    "While trying to implement the one vs all logistic model I had great difficulties in getting the explicit differientation to work. Below show my attempt at a solution however the code was very slow and fails to do even one epoch in a reasonable amount of time. "
   ]
  },
  {
   "cell_type": "code",
   "execution_count": null,
   "id": "8e1d660c",
   "metadata": {},
   "outputs": [],
   "source": [
    "train_data_MINST = MLDatasets.MNIST.traindata(Float64);\n",
    "test_data_MINST = MLDatasets.MNIST.testdata(Float64);\n",
    "logistic_one_vs_all(train_data_MINST, test_data_MINST);"
   ]
  },
  {
   "cell_type": "markdown",
   "id": "f7a3dd71",
   "metadata": {},
   "source": [
    "I computed five 1000 length batches for this example and this took my computer 2 mintues. To compute one epoch at a rate of 30 seconds per batch would take 30 minutes (Assuming the computation time doesnt increase) which is obviously not right and definitly not feasible for multiple epochs. I've include this because an attempt is better than nothing but this would be useless in providing an accurate guess of any image."
   ]
  },
  {
   "cell_type": "markdown",
   "id": "06d94781",
   "metadata": {},
   "source": [
    "### Task 2.2 One vs. One Linear and Logistic"
   ]
  },
  {
   "cell_type": "markdown",
   "id": "b65a7b36",
   "metadata": {},
   "source": [
    "#### Linear one vs one\n",
    "Since as noted above I failed to devolp a logistic one vs all model for one vs one only the linear model will be tested. "
   ]
  },
  {
   "cell_type": "markdown",
   "id": "a8905bbd",
   "metadata": {},
   "source": [
    "MINST Dataset"
   ]
  },
  {
   "cell_type": "code",
   "execution_count": 88,
   "id": "2d6bb368",
   "metadata": {},
   "outputs": [
    {
     "name": "stdout",
     "output_type": "stream",
     "text": [
      "Matrix{Float64}\n",
      "(60000, 784)\n",
      "Matrix{Float64}\n",
      "(10000, 784)\n"
     ]
    }
   ],
   "source": [
    "#Collecting data\n",
    "train_data_MINST = MLDatasets.MNIST.traindata(Float64);\n",
    "test_data_MINST = MLDatasets.MNIST.testdata(Float64);\n",
    "train_imgs = train_data_MINST[1]\n",
    "train_labels = train_data_MINST[2]\n",
    "\n",
    "test_imgs = test_data_MINST[1]\n",
    "test_labels = test_data_MINST[2]\n",
    "\n",
    "#sorting data\n",
    "X_sorted = vcat([vec(train_imgs[:,:,k])' for k in sortperm(train_labels)]...);\n",
    "Xt_sorted = vcat([vec(test_imgs[:,:,k])' for k in sortperm(test_labels)]...);\n"
   ]
  },
  {
   "cell_type": "code",
   "execution_count": 89,
   "id": "dc6cfaa9",
   "metadata": {},
   "outputs": [],
   "source": [
    "#organising data\n",
    "Intervals = []\n",
    "\n",
    "for i in 1:10\n",
    "    push!(Intervals, (counts(train_labels)[i], counts(test_labels)[i]))\n",
    "end\n",
    "\n",
    "X_values = []\n",
    "\n",
    "start = [1, 1]\n",
    "finish = [counts(train_labels)[1], counts(test_labels)[1]]\n",
    "for i in 1:10\n",
    "    push!(X_values, (X_sorted[start[1]:finish[1],:], Xt_sorted[start[2]:finish[2],:]))\n",
    "\n",
    "    i == 10 && break\n",
    "    start[1] = start[1] + counts(train_labels)[i]\n",
    "    start[2] = start[2] + counts(test_labels)[i]\n",
    "    finish[1] = finish[1] + counts(train_labels)[i+1]\n",
    "    finish[2] = finish[2] + counts(test_labels)[i+1]\n",
    "end"
   ]
  },
  {
   "cell_type": "code",
   "execution_count": 93,
   "id": "31576d66",
   "metadata": {},
   "outputs": [
    {
     "name": "stdout",
     "output_type": "stream",
     "text": [
      "Total accuraccy of the linear one vs one model is 0.983040946104759\n"
     ]
    }
   ],
   "source": [
    "#Recording accuracu values for 45 linear models\n",
    "acc = 0\n",
    "num_of_tests = 9\n",
    "counter = 0\n",
    "for i in 1:10\n",
    "    \n",
    "    for j in 11-num_of_tests:10\n",
    "        acc += linear_one_vs_one(X_values[i], X_values[j], Intervals[i], Intervals[j])\n",
    "        counter += 1\n",
    "    end\n",
    "    num_of_tests -= 1\n",
    "    \n",
    "end\n",
    "\n",
    "println(\"The average accuraccy of the linear one vs one model is \", acc/45)"
   ]
  },
  {
   "cell_type": "markdown",
   "id": "ebab8bae",
   "metadata": {},
   "source": [
    "FashionMINST Dataset"
   ]
  },
  {
   "cell_type": "code",
   "execution_count": 95,
   "id": "296389cf",
   "metadata": {},
   "outputs": [],
   "source": [
    "#collecting data \n",
    "train_data_fMINST = FashionMNIST.traindata(Float64);\n",
    "test_data_fMINST = FashionMNIST.testdata(Float64)\n",
    "\n",
    "train_imgs = train_data_fMINST[1]\n",
    "train_labels = train_data_fMINST[2]\n",
    "\n",
    "test_imgs = test_data_fMINST[1]\n",
    "test_labels = test_data_fMINST[2]\n",
    "\n",
    "#values in the FashionMNIST are naturally sorted\n",
    "X_sorted = vcat([vec(train_imgs[:,:,k])' for k in 1:length(train_labels)]...);\n",
    "Xt_sorted = vcat([vec(test_imgs[:,:,k])' for k in 1:length(test_labels)]...);"
   ]
  },
  {
   "cell_type": "code",
   "execution_count": 96,
   "id": "67dae08d",
   "metadata": {},
   "outputs": [],
   "source": [
    "#organising data\n",
    "Intervals = []\n",
    "\n",
    "for i in 1:10\n",
    "    push!(Intervals, (counts(train_labels)[i], counts(test_labels)[i]))\n",
    "end\n",
    "\n",
    "X_values = []\n",
    "\n",
    "start = [1, 1]\n",
    "finish = [counts(train_labels)[1], counts(test_labels)[1]]\n",
    "for i in 1:10\n",
    "    push!(X_values, (X_sorted[start[1]:finish[1],:], Xt_sorted[start[2]:finish[2],:]))\n",
    "\n",
    "    i == 10 && break\n",
    "    start[1] = start[1] + counts(train_labels)[i]\n",
    "    start[2] = start[2] + counts(test_labels)[i]\n",
    "    finish[1] = finish[1] + counts(train_labels)[i+1]\n",
    "    finish[2] = finish[2] + counts(test_labels)[i+1]\n",
    "end"
   ]
  },
  {
   "cell_type": "code",
   "execution_count": 97,
   "id": "7390592c",
   "metadata": {},
   "outputs": [
    {
     "name": "stdout",
     "output_type": "stream",
     "text": [
      "The average accuraccy of the linear one vs one model is 0.5024\n"
     ]
    }
   ],
   "source": [
    "#Recording accuracu values for 45 linear models\n",
    "acc = 0\n",
    "num_of_tests = 9\n",
    "counter = 0\n",
    "for i in 1:10\n",
    "    \n",
    "    for j in 11-num_of_tests:10\n",
    "        acc += linear_one_vs_one(X_values[i], X_values[j], Intervals[i], Intervals[j])\n",
    "        counter += 1\n",
    "    end\n",
    "    num_of_tests -= 1\n",
    "    \n",
    "end\n",
    "\n",
    "println(\"The average accuraccy of the linear one vs one model is \", acc/45)"
   ]
  },
  {
   "cell_type": "code",
   "execution_count": null,
   "id": "f7ecbade",
   "metadata": {},
   "outputs": [],
   "source": []
  },
  {
   "cell_type": "markdown",
   "id": "c7353eda",
   "metadata": {},
   "source": [
    "### Task 2.3 Multi-class classifier (logistic softmax)"
   ]
  },
  {
   "cell_type": "code",
   "execution_count": null,
   "id": "971a9ad5",
   "metadata": {},
   "outputs": [],
   "source": []
  },
  {
   "cell_type": "markdown",
   "id": "b5d316b2",
   "metadata": {},
   "source": [
    "### Task 2.4 Comparison of results and discussion"
   ]
  },
  {
   "cell_type": "code",
   "execution_count": null,
   "id": "3b0b7a1f",
   "metadata": {},
   "outputs": [],
   "source": []
  },
  {
   "cell_type": "code",
   "execution_count": null,
   "id": "5311e83e",
   "metadata": {},
   "outputs": [],
   "source": []
  }
 ],
 "metadata": {
  "kernelspec": {
   "display_name": "Julia 1.7.3",
   "language": "julia",
   "name": "julia-1.7"
  },
  "language_info": {
   "file_extension": ".jl",
   "mimetype": "application/julia",
   "name": "julia",
   "version": "1.7.3"
  }
 },
 "nbformat": 4,
 "nbformat_minor": 5
}
