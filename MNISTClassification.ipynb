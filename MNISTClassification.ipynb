{
 "cells": [
  {
   "cell_type": "markdown",
   "id": "49c133fb",
   "metadata": {},
   "source": [
    "## Task 2: Basic ML on MNIST and FashionMNIST"
   ]
  },
  {
   "cell_type": "code",
   "execution_count": 1,
   "id": "b1d4109b",
   "metadata": {},
   "outputs": [],
   "source": [
    "using MLDatasets, Plots, Measures, LaTeXStrings, StatsBase, Random"
   ]
  },
  {
   "cell_type": "code",
   "execution_count": 2,
   "id": "3cc2d683",
   "metadata": {},
   "outputs": [
    {
     "name": "stderr",
     "output_type": "stream",
     "text": [
      "┌ Warning: FashionMNIST.traindata() is deprecated, use `FashionMNIST(split=:train)[:]` instead.\n",
      "└ @ MLDatasets C:\\Users\\joshu\\.julia\\packages\\MLDatasets\\soHS1\\src\\datasets\\vision\\fashion_mnist.jl:119\n",
      "┌ Warning: FashionMNIST.testdata() is deprecated, use `FashionMNIST(split=:test)[:]` instead.\n",
      "└ @ MLDatasets C:\\Users\\joshu\\.julia\\packages\\MLDatasets\\soHS1\\src\\datasets\\vision\\fashion_mnist.jl:127\n",
      "┌ Warning: FashionMNIST.classnames() is deprecated, use `FashionMNIST().metadata[\"class_names\"]` instead.\n",
      "└ @ MLDatasets C:\\Users\\joshu\\.julia\\packages\\MLDatasets\\soHS1\\src\\datasets\\vision\\fashion_mnist.jl:138\n"
     ]
    },
    {
     "data": {
      "text/plain": [
       "10-element Vector{String}:\n",
       " \"T-Shirt\"\n",
       " \"Trouser\"\n",
       " \"Pullover\"\n",
       " \"Dress\"\n",
       " \"Coat\"\n",
       " \"Sandal\"\n",
       " \"Shirt\"\n",
       " \"Sneaker\"\n",
       " \"Bag\"\n",
       " \"Ankle boot\""
      ]
     },
     "execution_count": 2,
     "metadata": {},
     "output_type": "execute_result"
    }
   ],
   "source": [
    "\n",
    "train_data = FashionMNIST.traindata(Float64);\n",
    "train_imgs = train_data[1];\n",
    "train_labels = train_data[2];\n",
    "\n",
    "test_data = FashionMNIST.testdata(Float64);\n",
    "test_imgs = test_data[1];\n",
    "test_labels = test_data[2];\n",
    "class_names = FashionMNIST.classnames()"
   ]
  },
  {
   "cell_type": "code",
   "execution_count": 3,
   "id": "5e2f36d2",
   "metadata": {},
   "outputs": [],
   "source": [
    "tshirt_imgs = train_imgs[:,:,train_labels .== 0];\n",
    "trousers_imgs = train_imgs[:,:,train_labels .== 1];\n",
    "pullover_imgs = train_imgs[:,:,train_labels .== 2];\n",
    "dress_imgs = train_imgs[:,:,train_labels .== 3];\n",
    "coat_imgs = train_imgs[:,:,train_labels .== 4];\n",
    "sandle_imgs = train_imgs[:,:,train_labels .== 5];\n",
    "shirt_imgs = train_imgs[:,:,train_labels .== 6];\n",
    "sneaker_imgs = train_imgs[:,:,train_labels .== 7];\n",
    "bag_imgs = train_imgs[:,:,train_labels .== 8];\n",
    "ankle_boot_imgs = train_imgs[:,:,train_labels .== 9];"
   ]
  },
  {
   "cell_type": "code",
   "execution_count": 4,
   "id": "5ba180cd",
   "metadata": {},
   "outputs": [],
   "source": [
    "#only testing 1000 since my computer could plot the heatmap \"oom\" (out of memmory) only 8gb\n",
    "tshirt_imgs_as_vectors = vcat([vec(tshirt_imgs[:,:,k])' for k in 1:1000]...);\n",
    "trousers_imgs_as_vectors = vcat([vec(trousers_imgs[:,:,k])' for k in 1:1000]...);\n",
    "dress_imgs_as_vectors = vcat([vec(pullover_imgs[:,:,k])' for k in 1:1000]...); #last(size(pullover_imgs))\n",
    "coat_imgs_as_vectors = vcat([vec(dress_imgs[:,:,k])' for k in 1:1000]...); #last(size(dress_imgs))\n",
    "sandle_imgs_as_vectors = vcat([vec(coat_imgs[:,:,k])' for k in 1:1000]...); #last(size(coat_imgs))\n",
    "shirt_imgs_as_vectors = vcat([vec(sandle_imgs[:,:,k])' for k in 1:1000]...); #last(size(sandal_imgs))\n",
    "sneaker_imgs_as_vectors = vcat([vec(shirt_imgs[:,:,k])' for k in 1:1000]...); #last(size(shirt_imgs))\n",
    "bag_imgs_as_vectors = vcat([vec(bag_imgs[:,:,k])' for k in 1:1000]...); #last(size(bag_imgs))\n",
    "ankle_boot_imgs_as_vectors = vcat([vec(ankle_boot_imgs[:,:,k])' for k in 1:1000]...); #last(size(ankle_boot_imgs))\n",
    "train_data_all_classes = vcat(tshirt_imgs_as_vectors, trousers_imgs_as_vectors, dress_imgs_as_vectors, coat_imgs_as_vectors, sandle_imgs_as_vectors, shirt_imgs_as_vectors, sneaker_imgs_as_vectors, bag_imgs_as_vectors, ankle_boot_imgs_as_vectors);"
   ]
  },
  {
   "cell_type": "code",
   "execution_count": 5,
   "id": "f6aef13f",
   "metadata": {},
   "outputs": [
    {
     "name": "stdout",
     "output_type": "stream",
     "text": [
      "size(train_data_all_classes) = (9000, 784)\n"
     ]
    },
    {
     "data": {
      "text/plain": [
       "(9000, 784)"
      ]
     },
     "execution_count": 5,
     "metadata": {},
     "output_type": "execute_result"
    }
   ],
   "source": [
    "@show size(train_data_all_classes)\n",
    "#heatmap(train_data_all_classes,legend=false)"
   ]
  },
  {
   "cell_type": "markdown",
   "id": "e1fe4d72",
   "metadata": {},
   "source": [
    "### Task 2.1 One vs. all (rest) Linear and Logistic"
   ]
  },
  {
   "cell_type": "code",
   "execution_count": 10,
   "id": "e74f7735",
   "metadata": {},
   "outputs": [],
   "source": [
    "# firstly want to test if somthing is a tshirt or not.\n",
    "train_labels_tshirt_classes = vcat(ones(1000),zeros(8000));\n",
    "#shuffling data\n",
    "Random.seed!(0)\n",
    "perm = shuffle(1:9000)\n",
    "train_data_all_classes = train_data_all_classes[perm,:];\n",
    "train_labels_tshirt_classes = train_labels_tshirt_classes[perm,:];\n",
    "#heatmap(train_data_all_classes,legend=false)"
   ]
  },
  {
   "cell_type": "code",
   "execution_count": 19,
   "id": "93d2fbc5",
   "metadata": {},
   "outputs": [
    {
     "ename": "LoadError",
     "evalue": "LoadError: MethodError: no method matching train_logistic()\n\u001b[0mClosest candidates are:\n\u001b[0m  train_logistic(\u001b[91m::Any\u001b[39m, \u001b[91m::Any\u001b[39m, \u001b[91m::Any\u001b[39m; num_epochs, mini_batch_size, η) at c:\\Users\\joshu\\Documents\\MATH2504\\Joshua-Crook-2504-2022-PROJECT3\\src\\ML.jl:17\nin expression starting at c:\\Users\\joshu\\Documents\\MATH2504\\Joshua-Crook-2504-2022-PROJECT3\\src\\ML.jl:52",
     "output_type": "error",
     "traceback": [
      "LoadError: MethodError: no method matching train_logistic()\n\u001b[0mClosest candidates are:\n\u001b[0m  train_logistic(\u001b[91m::Any\u001b[39m, \u001b[91m::Any\u001b[39m, \u001b[91m::Any\u001b[39m; num_epochs, mini_batch_size, η) at c:\\Users\\joshu\\Documents\\MATH2504\\Joshua-Crook-2504-2022-PROJECT3\\src\\ML.jl:17\nin expression starting at c:\\Users\\joshu\\Documents\\MATH2504\\Joshua-Crook-2504-2022-PROJECT3\\src\\ML.jl:52",
      "",
      "Stacktrace:",
      " [1] top-level scope",
      "   @ c:\\Users\\joshu\\Documents\\MATH2504\\Joshua-Crook-2504-2022-PROJECT3\\src\\ML.jl:52",
      " [2] include(fname::String)",
      "   @ Base.MainInclude .\\client.jl:451",
      " [3] top-level scope",
      "   @ In[19]:1",
      " [4] eval",
      "   @ .\\boot.jl:373 [inlined]",
      " [5] include_string(mapexpr::typeof(REPL.softscope), mod::Module, code::String, filename::String)",
      "   @ Base .\\loading.jl:1196"
     ]
    }
   ],
   "source": [
    "include(\"src/ML.jl\")"
   ]
  },
  {
   "cell_type": "markdown",
   "id": "06d94781",
   "metadata": {},
   "source": [
    "### Task 2.2 One vs. One Linear and Logistic"
   ]
  },
  {
   "cell_type": "code",
   "execution_count": null,
   "id": "b65a7b36",
   "metadata": {},
   "outputs": [],
   "source": []
  },
  {
   "cell_type": "markdown",
   "id": "c7353eda",
   "metadata": {},
   "source": [
    "### Task 2.3 Multi-class classifier (logistic softmax)"
   ]
  },
  {
   "cell_type": "code",
   "execution_count": null,
   "id": "971a9ad5",
   "metadata": {},
   "outputs": [],
   "source": []
  },
  {
   "cell_type": "markdown",
   "id": "b5d316b2",
   "metadata": {},
   "source": [
    "### Task 2.4 Comparison of results and discussion"
   ]
  },
  {
   "cell_type": "code",
   "execution_count": null,
   "id": "3b0b7a1f",
   "metadata": {},
   "outputs": [],
   "source": []
  },
  {
   "cell_type": "code",
   "execution_count": null,
   "id": "5311e83e",
   "metadata": {},
   "outputs": [],
   "source": []
  }
 ],
 "metadata": {
  "kernelspec": {
   "display_name": "Julia 1.7.3",
   "language": "julia",
   "name": "julia-1.7"
  },
  "language_info": {
   "file_extension": ".jl",
   "mimetype": "application/julia",
   "name": "julia",
   "version": "1.7.3"
  }
 },
 "nbformat": 4,
 "nbformat_minor": 5
}
